{
  "nbformat": 4,
  "nbformat_minor": 0,
  "metadata": {
    "colab": {
      "name": "Lab_0_Notebook.ipynb",
      "version": "0.3.2",
      "provenance": [],
      "collapsed_sections": [],
      "include_colab_link": true
    },
    "kernelspec": {
      "name": "python3",
      "display_name": "Python 3"
    }
  },
  "cells": [
    {
      "cell_type": "markdown",
      "metadata": {
        "id": "view-in-github",
        "colab_type": "text"
      },
      "source": [
        "<a href=\"https://colab.research.google.com/github/mfwlr/UIUC_CS105_JupyterNotebooks/blob/master/Fall2019/Lab_0_Notebook.ipynb\" target=\"_parent\"><img src=\"https://colab.research.google.com/assets/colab-badge.svg\" alt=\"Open In Colab\"/></a>"
      ]
    },
    {
      "cell_type": "markdown",
      "metadata": {
        "id": "AInduWX0oMDF",
        "colab_type": "text"
      },
      "source": [
        "# Welcome to CS 105!\n",
        "\n",
        "And welcome to your first Google Co-Labs Notebook. This box is a text box, where you can write and edit regular text. These boxes also support *font styles*, \n",
        "\n",
        "*   various\n",
        "*   other\n",
        "*   markups,\n",
        "\n",
        "and images: \n",
        "\n",
        "<img src = \"https://i.imgur.com/k9zhk9d.jpg\" width = 300 height = 200>\n",
        "\n"
      ]
    },
    {
      "cell_type": "markdown",
      "metadata": {
        "id": "wTnXvkVh0cNe",
        "colab_type": "text"
      },
      "source": [
        "# Text box practice!\n",
        "As this is a 100 level course, you will now practice some text editing by writing briefly about yourself! I"
      ]
    },
    {
      "cell_type": "code",
      "metadata": {
        "id": "Sw--xeK-oHcz",
        "colab_type": "code",
        "colab": {}
      },
      "source": [
        ""
      ],
      "execution_count": 0,
      "outputs": []
    }
  ]
}