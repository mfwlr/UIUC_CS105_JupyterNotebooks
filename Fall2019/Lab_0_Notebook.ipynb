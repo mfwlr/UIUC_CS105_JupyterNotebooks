{
  "nbformat": 4,
  "nbformat_minor": 0,
  "metadata": {
    "colab": {
      "name": "Lab_0_Notebook.ipynb",
      "version": "0.3.2",
      "provenance": [],
      "collapsed_sections": [],
      "include_colab_link": true
    },
    "kernelspec": {
      "name": "python3",
      "display_name": "Python 3"
    }
  },
  "cells": [
    {
      "cell_type": "markdown",
      "metadata": {
        "id": "view-in-github",
        "colab_type": "text"
      },
      "source": [
        "<a href=\"https://colab.research.google.com/github/mfwlr/UIUC_CS105_JupyterNotebooks/blob/master/Fall2019/Lab_0_Notebook.ipynb\" target=\"_parent\"><img src=\"https://colab.research.google.com/assets/colab-badge.svg\" alt=\"Open In Colab\"/></a>"
      ]
    },
    {
      "cell_type": "markdown",
      "metadata": {
        "id": "AInduWX0oMDF",
        "colab_type": "text"
      },
      "source": [
        "# Welcome to CS 105!\n",
        "\n",
        "And welcome to your first Google Co-Labs Notebook. This box is a text box, where you can write and edit regular text. These boxes also support *font styles*, \n",
        "\n",
        "*   various\n",
        "*   other\n",
        "*   markups,\n",
        "\n",
        "and images: \n",
        "\n",
        "<img src = \"https://i.imgur.com/k9zhk9d.jpg\" width = 300 height = 200>\n",
        "\n"
      ]
    },
    {
      "cell_type": "markdown",
      "metadata": {
        "id": "wTnXvkVh0cNe",
        "colab_type": "text"
      },
      "source": [
        "# Text box practice\n",
        "In the first part of this lab notebook, you will get some practice working with a Google Co-Lab text box. Click in the empty text box below. Try typing \\#My First Text Box in the box below and see what happens.\n",
        "\n",
        "Then try typing \\*This is my first markdown practice\\*.\n",
        "\n",
        "> Finally, use the controls along the top to **bold** some text and indent a sentence. Google Co-Labs lets you use both typed markdown and the controls along the top to fit your working style.\n",
        "\n",
        "\n",
        "\n",
        "\n",
        "\n"
      ]
    },
    {
      "cell_type": "markdown",
      "metadata": {
        "id": "8oTE_TyfXvCN",
        "colab_type": "text"
      },
      "source": [
        ""
      ]
    },
    {
      "cell_type": "markdown",
      "metadata": {
        "id": "b1wXKY8FZyzO",
        "colab_type": "text"
      },
      "source": [
        "#Making new boxes\n",
        "\n",
        "Making new text boxes is pretty simple using Google Co-Labs. You have a few methods to do so\n",
        "\n",
        "*   Use the +Text, for text boxes, or +Code, for code boxes, in the top left corner of the screen\n",
        "*   Hover the mouse just below or just above a box - you will receive a +Text and +Code button to press\n",
        "* If you want a new code box, hitting Alt+Enter will make one for you\n",
        "\n",
        "In whatever fashion you wish, make a new text box. Then, try typing:\n",
        "\n",
        "\\* Red\n",
        "\n",
        "\\* Blue\n",
        "\n",
        "\\* Green\n",
        "\n",
        "And see what happens.\n",
        "\n",
        "Finally, leave a comment about what happened using the comment tool in the top right of your new text box, shown in an image below:\n",
        "\n",
        "<img src = \"https://i.imgur.com/jrnVHwc.png\" width = 800 height = 100>\n",
        "\n",
        "\n",
        "\n",
        "\n",
        "\n"
      ]
    },
    {
      "cell_type": "markdown",
      "metadata": {
        "id": "P5YdlgmzfAPE",
        "colab_type": "text"
      },
      "source": [
        "#Using code boxes\n",
        "\n",
        "The next few boxes you will see are code boxes. These work a bit differently than the text boxes, as they hold executable/runnable Python code in them. We won't go in depth about what the lines of Python code do today, but you will be typing some basic Python out and seeing some basic Python run. There are two ways to run Python code in a code box:\n",
        "\n",
        "\n",
        "\n",
        "1.   Use the run arrow on the left side of the box\n",
        "2.   Hit Shift+Enter\n",
        "\n",
        "Please note that you need to be connected to the Google Co-Lab cloud in order to execute code. If you have a green check mark next to a RAM and Disk bar in the top right, you're good to go. If not, click the connect button in the top right. If you are unsure if you are connected, please wave down a member of the course staff.\n",
        "\n",
        "Note that you will see lines in code boxes that start with \\#. In Python, these lines are comment lines and not code, so we can type regular sentences rather than code statements.\n",
        "\n",
        "\n",
        "\n"
      ]
    },
    {
      "cell_type": "code",
      "metadata": {
        "id": "ka9Q1y3QfQ5P",
        "colab_type": "code",
        "colab": {}
      },
      "source": [
        "#This is the first code box you'll see. For this code box, just run the box to see the results. \n",
        "#Making things like this easy is one of Python's strengths!\n",
        "\n",
        "import matplotlib\n",
        "import matplotlib.pyplot as plt\n",
        "import numpy as np\n",
        "\n",
        "x = np.arange(0, 10, 2)\n",
        "y = np.random.randint(-5,5,len(x))\n",
        "\n",
        "fig = plt.plot(x,y, '-mo')\n",
        "\n",
        "plt.show()"
      ],
      "execution_count": 0,
      "outputs": []
    },
    {
      "cell_type": "code",
      "metadata": {
        "id": "VfH4UWKYh42J",
        "colab_type": "code",
        "colab": {}
      },
      "source": [
        "#Let's try typing out some Python code\n",
        "#Type print(\"Hello World\") and then execute the code box\n"
      ],
      "execution_count": 0,
      "outputs": []
    },
    {
      "cell_type": "code",
      "metadata": {
        "id": "b5kbSMsHiK5C",
        "colab_type": "code",
        "colab": {}
      },
      "source": [
        "#Now, type the following and execute the code\n",
        "#x = 5\n",
        "#y = 2\n",
        "#print(x - y)\n",
        "#What happens?"
      ],
      "execution_count": 0,
      "outputs": []
    },
    {
      "cell_type": "code",
      "metadata": {
        "id": "xvMsT-SdiT1-",
        "colab_type": "code",
        "colab": {}
      },
      "source": [
        "#Now, try typing\n",
        "#x = 5**2\n",
        "#print(x)\n",
        "#What is the value of x? What does that mean ** does?\n"
      ],
      "execution_count": 0,
      "outputs": []
    },
    {
      "cell_type": "code",
      "metadata": {
        "id": "_tex6LwDigMO",
        "colab_type": "code",
        "colab": {}
      },
      "source": [
        "#How do you know something is wrong with your Python code? Try running this box and see what happens\n",
        "\n",
        "numberOfBoxes = 20\n",
        "totalStorage = storageCapacity * numberOfBoxes"
      ],
      "execution_count": 0,
      "outputs": []
    },
    {
      "cell_type": "code",
      "metadata": {
        "id": "eCTR3cw9jU2f",
        "colab_type": "code",
        "colab": {}
      },
      "source": [
        "#One interesting thing about Jupyter notebooks is that variables from previously run boxes still exist. \n",
        "#As long as we run the above box first, we can now run this box\n",
        "\n",
        "storageCapacity = 5\n",
        "totalStorage = storageCapacity * numberOfBoxes\n",
        "print(\"The total storage is :\", totalStorage)"
      ],
      "execution_count": 0,
      "outputs": []
    }
  ]
}